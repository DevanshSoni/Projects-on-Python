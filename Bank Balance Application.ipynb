{
 "cells": [
  {
   "cell_type": "code",
   "execution_count": null,
   "metadata": {},
   "outputs": [],
   "source": [
    "menu=['Login','Sign Up','Exit']\n",
    "sub_menu=['Credit',\"Debit\",'Check Balance',\"Log Out\"]\n",
    "data=dict()\n",
    "acc_no=1000\n",
    "a=1\n",
    "while(a!=3):\n",
    "    for i in range(len(menu)):\n",
    "        print(f\"{i+1} {menu[i]}\")\n",
    "    a=int(input(\"Select from the options\"))\n",
    "    if a==1:\n",
    "        user=input(\"Enter Account_Number\")\n",
    "        password=input(\"Enter Password\")\n",
    "        if user in data:\n",
    "            if data[user]['password'] == password:\n",
    "                sub=1\n",
    "                while(sub!=4):\n",
    "                    for i in range(len(sub_menu)):\n",
    "                        print(f\"{i+1} {sub_menu[i]}\")\n",
    "                    sub=int(input(\"Select from the options\"))\n",
    "                    if sub==1:\n",
    "                        money=int(input(\"Enter to be credited\"))\n",
    "                        data[user]['bal']+=money\n",
    "                    elif sub==2:\n",
    "                        money=int(input(\"Enter amount to be debited\"))\n",
    "                        if money > data[user]['bal']:\n",
    "                            print(\"Not Sufficient Amount lease check your account balance\")\n",
    "                        elif(money<=data[user]['bal']):\n",
    "                            data[user]['bal']-=money\n",
    "                            print(\"Amount Debited to your account\")\n",
    "                    elif sub==3:\n",
    "                        print(f\"Available Balance :- {data[user]['bal']}\")\n",
    "                else:\n",
    "                    print(\"Logging Out\")\n",
    "        else:\n",
    "            print(\"User ID not found prefer doing sign UP\")\n",
    "    elif a==2:\n",
    "        user=input(\"Enter User ID \")\n",
    "        passw=input(\"Enter Password\")\n",
    "        bal=int(input(\"Enter Initial Balance\"))\n",
    "        print(f\"Your Account Number is {acc_no} use this to access your account\")\n",
    "        data.update({str(acc_no):{'Name':user,'bal':bal,'password':passw}})\n",
    "        acc_no+=1\n",
    "        print(\"User successfully Added\")\n",
    "else:\n",
    "    print(\"Thank you for using our services Bubbye\")"
   ]
  }
 ],
 "metadata": {
  "kernelspec": {
   "display_name": "Python 3",
   "language": "python",
   "name": "python3"
  },
  "language_info": {
   "codemirror_mode": {
    "name": "ipython",
    "version": 3
   },
   "file_extension": ".py",
   "mimetype": "text/x-python",
   "name": "python",
   "nbconvert_exporter": "python",
   "pygments_lexer": "ipython3",
   "version": "3.7.3"
  }
 },
 "nbformat": 4,
 "nbformat_minor": 2
}
