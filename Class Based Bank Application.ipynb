{
 "cells": [
  {
   "cell_type": "code",
   "execution_count": 1,
   "metadata": {},
   "outputs": [],
   "source": [
    "import os\n",
    "os.mkdir('Bank')"
   ]
  },
  {
   "cell_type": "code",
   "execution_count": 21,
   "metadata": {},
   "outputs": [],
   "source": [
    "import os\n",
    "import json\n",
    "import time\n",
    "from IPython.display import clear_output\n",
    "class Bank:\n",
    "    def __repr__(self):\n",
    "        return f\"Available Account Numbers {os.listdir('Bank')}\"\n",
    "    def sign_up(self,user_name,password,balance):\n",
    "        self.user_name=user_name\n",
    "        self.password=password\n",
    "        self.balance=balance\n",
    "        acc_no=None\n",
    "        data=os.listdir('Bank')\n",
    "        if data==[]:\n",
    "            acc_no='1000'\n",
    "        else:      \n",
    "            acc_no=str(int(max(data))+1)\n",
    "        data={'name':self.user_name,'Balance':self.balance,'Password':self.password}\n",
    "        fp=open(f'Bank/{acc_no}','w')\n",
    "        json.dump(data,fp)\n",
    "        fp.close()\n",
    "        time.sleep(3)\n",
    "        print(\"User Successfully Added\")\n",
    "        print(f\"Account_number is {acc_no} use it for Log_In\")\n",
    "        clear_output()\n",
    "    def login(self,id,password):\n",
    "        data=os.listdir('Bank')\n",
    "        if id in data:\n",
    "            fp=open(f'Bank/{id}','r+')\n",
    "            value=json.load(fp)\n",
    "            if value['Password']==password:\n",
    "                option=1\n",
    "                while(option!=6):\n",
    "                    print('1 :- Debit Amount')\n",
    "                    print('2 :- Credit Amount')\n",
    "                    print('3 :- Check Balance')\n",
    "                    print('4 :- Account Information')\n",
    "                    print('5 :- Update Account Info.')\n",
    "                    print('6 :- Log out')\n",
    "                    option=int(input())\n",
    "                    if option == 1:\n",
    "                        amt=int(input(\"Enter Amount to be Debited\"))\n",
    "                        if value['Balance']<amt:\n",
    "                            print(\"Insufficient Balance\")\n",
    "                        elif amt<1:\n",
    "                            print(\"Enter Valid Amount To be debited\")\n",
    "                        else:\n",
    "                            value['Balance']-=amt\n",
    "                    elif option==2:\n",
    "                        amt=int(input(\"Enter Amount to be credited\"))\n",
    "                        if amt:\n",
    "                            value['Balance']+=amt\n",
    "                        else:\n",
    "                            print(\"Please Enter Valid Amount to be Credited\")\n",
    "                    elif option ==3:\n",
    "                        print(f\"Available Balance in your account is {value['Balance']}\")\n",
    "                    elif option == 4:\n",
    "                        print(f\"UserName is {value['name']}\")\n",
    "                        print(f\"Password is {value['Password']}\")\n",
    "                        print(f\"Account Balance is {value['Balance']}\")\n",
    "                    elif option ==5:\n",
    "                        print('1 :- Update Account User_name')\n",
    "                        print('2 :- Update Account Password')\n",
    "                        choice=int(input())\n",
    "                        if choice ==1:\n",
    "                              name=input(\"Enter New User_Name\")\n",
    "                              value['name']=name\n",
    "                              print('Records Updated')\n",
    "                        elif choice ==2:\n",
    "                            password=input(\"Enter New Password\")\n",
    "                            value['Password']=password\n",
    "                            print('Records Updated')\n",
    "                else:\n",
    "                    fp.seek(0)\n",
    "                    json.dump(value,fp)\n",
    "                    print(\"Logging Out\")\n",
    "                    fp.truncate()\n",
    "                    fp.close()\n",
    "                    time.sleep(3)\n",
    "                    clear_output()\n",
    "                    return None\n",
    "            else:\n",
    "                    print(\"You've entered wrong password please try again!!!\")\n",
    "                    fp.close()\n",
    "                    return None\n",
    "        else:\n",
    "            print('No Such Record Exist Prefer Doing sign up')\n",
    "            return None"
   ]
  },
  {
   "cell_type": "code",
   "execution_count": 22,
   "metadata": {},
   "outputs": [],
   "source": [
    "def main():\n",
    "    li=['1 :- Login','2 :- Sign_Up','3 :- Exit']\n",
    "    ch=1\n",
    "    while ch!=3:\n",
    "        for i in li:\n",
    "            print(i)\n",
    "        ch=int(input(\"Select from the options above\"))\n",
    "        if ch==1:\n",
    "            acc_no=input(\"Enter Acc_No to access your account\")\n",
    "            password=input(\"Enter Password\")\n",
    "            #acc_no=acc_no+'.json'\n",
    "            temp_obj=Bank()\n",
    "            temp_obj.login(acc_no,password)\n",
    "        elif ch==2:\n",
    "            user_Name=input(\"Enter user Name\")\n",
    "            password=input(\"Enter Password\")\n",
    "            balance=int(input(\"Enter Initial Balance\"))\n",
    "            temp_obj=Bank()\n",
    "            temp_obj.sign_up(user_Name,password,balance)\n",
    "    else:\n",
    "        print(\"Thank You for using our Services have a nice day :-)\")\n",
    "        "
   ]
  },
  {
   "cell_type": "code",
   "execution_count": 23,
   "metadata": {},
   "outputs": [
    {
     "name": "stdout",
     "output_type": "stream",
     "text": [
      "1 :- Login\n",
      "2 :- Sign_Up\n",
      "3 :- Exit\n",
      "Select from the options above3\n",
      "Thank You for using our Services have a nice day :-)\n"
     ]
    }
   ],
   "source": [
    "main()"
   ]
  },
  {
   "cell_type": "code",
   "execution_count": 25,
   "metadata": {},
   "outputs": [],
   "source": [
    "b=Bank()"
   ]
  },
  {
   "cell_type": "code",
   "execution_count": 26,
   "metadata": {},
   "outputs": [
    {
     "name": "stdout",
     "output_type": "stream",
     "text": [
      "Available Account Numbers ['1000']\n"
     ]
    }
   ],
   "source": [
    "print(b)"
   ]
  },
  {
   "cell_type": "code",
   "execution_count": null,
   "metadata": {},
   "outputs": [],
   "source": []
  }
 ],
 "metadata": {
  "kernelspec": {
   "display_name": "Python 3",
   "language": "python",
   "name": "python3"
  },
  "language_info": {
   "codemirror_mode": {
    "name": "ipython",
    "version": 3
   },
   "file_extension": ".py",
   "mimetype": "text/x-python",
   "name": "python",
   "nbconvert_exporter": "python",
   "pygments_lexer": "ipython3",
   "version": "3.7.3"
  }
 },
 "nbformat": 4,
 "nbformat_minor": 2
}
